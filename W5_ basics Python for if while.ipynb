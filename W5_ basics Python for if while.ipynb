{
 "cells": [
  {
   "cell_type": "markdown",
   "metadata": {
    "id": "moT8a7Wksjhy"
   },
   "source": [
    "# Integers & Real Numbers\n",
    "Recall that integers are whole numbers. In the *HTTLAP* pseudocode we introduced four different kinds of integer (see Chapter 9):\n",
    "\n",
    "\n",
    "|Type|Representation|Range of values|\n",
    "|----|--------------|---------------|\n",
    "|byte|Signed 8-bit|-128 ... 127|\n",
    "|shortint|Signed 16-bit|-32,768 ... 32,767|\n",
    "|integer|Signed 32-bit||-2,147,483,648 ... 2,147,483,647|\n",
    "|longint|Signed 64-bit|-9,223,372,036,854,775,808 ... +9,223,372,036,854,775,807|\n",
    "\n",
    "Real numbers are those values that are not whole numbers, such as 1.5, 3.14159, 0.0009, and so on. In *HTTLAP* we have the following real number types:\n",
    "\n",
    "|Type|Size|Range of values|Significant digits|\n",
    "|----|----|---------------|------------------|\n",
    "|real|32-bit|1.40239846E-45 ... 3.40282347E+38|7-8|\n",
    "|doublereal|64-bit|4.94065645841246544E-324 ... 1.79769313486231570E+308|15-16|\n",
    "\n",
    "## Numbers in Python\n",
    "Python does support the explicit use of integer and real numbers. In fact, it also supports [complex numbers](https://www.mathsisfun.com/numbers/complex-numbers.htmlcomplex \"what are complex numbers?\") (numbers with both real and imaginary components) as well as numbers in [non-decimal bases](https://www.tutorialsteacher.com/python/python-number-type \"Numeric types in Python\") (such as binary, octal, and hexadecimal). \n",
    "\n",
    "But, Python allows us to defer choices about whether to handle numbers as reals, integers, and simply lets us declare variables to hold numbers of any kind. \n",
    "\n",
    "Consider the examples below."
   ]
  },
  {
   "cell_type": "code",
   "execution_count": 1,
   "metadata": {
    "id": "DvG1AU7iq_rv"
   },
   "outputs": [
    {
     "name": "stdout",
     "output_type": "stream",
     "text": [
      "3\n",
      "4\n",
      "1.5\n",
      "9.7\n"
     ]
    }
   ],
   "source": [
    "# Here are some numbers holding integers\n",
    "a = 3\n",
    "b = 4\n",
    "\n",
    "# And here are some real (floating point) numbers\n",
    "c = 1.5\n",
    "d = 9.7\n",
    "\n",
    "print (a)\n",
    "print (b)\n",
    "print (c)\n",
    "print (d)"
   ]
  },
  {
   "cell_type": "markdown",
   "metadata": {
    "id": "Cx8LB7o3xqk_"
   },
   "source": [
    "The lines beginning with a '#' are comments -- they contain text to help the person reading the program but are ignored by Python.\n",
    "\n",
    "The lines with an '=' sign are *assignment statements* which assign numeric values to the variables a, b, c, and d. In *HTTLAP* we would have written them like this:\n",
    "\n",
    "$a \\leftarrow 3$\n",
    "\n",
    "$b \\leftarrow 4$\n",
    "\n",
    "$c \\leftarrow 1.5$\n",
    "\n",
    "$d \\leftarrow 9.7$\n",
    "\n",
    "The four lines with the word ````print```` in them call the Python function called ````print()```` which displays the values of its arguments (the things inside the parentheses) in the output box.\n",
    "\n",
    "Execute the code above by pressing the 'play' button in the left corner of the cell. You should see a box appear below the code with the result of the four ````print```` statements. To clear the output hover over the box with your mouse and click the $\\times$ symbol."
   ]
  },
  {
   "cell_type": "markdown",
   "metadata": {
    "id": "u6lpEpdzzLep"
   },
   "source": [
    "## Numeric Operators\n",
    "In *HTTLAP* we did arithmetic by using the numeric operators $+,-,\\times,\\div$. The numeric operators available to us in  Python :\n",
    "\n",
    "|Operator|Meaning|Example|\n",
    "|--------|-------|-------|\n",
    "|`+`      | Addition| `a+b`|\n",
    "|`-`       | Subtraction|`24-d`|\n",
    "|`*`       | Multiplication|`c*d`|\n",
    "|`**` | Exponentiation -- raise to a power| `2**4` (raise 2 to the power of 4)|\n",
    "| `/`      | Floating point division|`17/9` (result is 1.8888888888888888)|\n",
    "| `//`     | Integer divison|`17//9` (result is 1)\n",
    "| `%`      | Modulus -- gives the remainder of integer division|`17%9`(result is 8)|\n",
    "\n",
    "Try these examples out in the code box below. To to this, simply type in an expression (such as ``a+b`) and then either hit CTRL+Enter to run the code, or hit the play button in the corner of the code box. The result will appear immediatelty below the code box. To enter a different expression, just delete the one that's already there and run the code box again.\n"
   ]
  },
  {
   "cell_type": "code",
   "execution_count": 2,
   "metadata": {
    "id": "wFNEdloQ1WwR"
   },
   "outputs": [
    {
     "data": {
      "text/plain": [
       "14.3"
      ]
     },
     "execution_count": 2,
     "metadata": {},
     "output_type": "execute_result"
    }
   ],
   "source": [
    "# Enter some numeric expressions here and run the code box.\n",
    "24-d"
   ]
  },
  {
   "cell_type": "code",
   "execution_count": 3,
   "metadata": {},
   "outputs": [
    {
     "data": {
      "text/plain": [
       "0.75"
      ]
     },
     "execution_count": 3,
     "metadata": {},
     "output_type": "execute_result"
    }
   ],
   "source": [
    "a/b"
   ]
  },
  {
   "cell_type": "code",
   "execution_count": 4,
   "metadata": {},
   "outputs": [
    {
     "data": {
      "text/plain": [
       "0"
      ]
     },
     "execution_count": 4,
     "metadata": {},
     "output_type": "execute_result"
    }
   ],
   "source": [
    "a//b"
   ]
  },
  {
   "cell_type": "code",
   "execution_count": 8,
   "metadata": {},
   "outputs": [
    {
     "data": {
      "text/plain": [
       "8"
      ]
     },
     "execution_count": 8,
     "metadata": {},
     "output_type": "execute_result"
    }
   ],
   "source": [
    "17%9"
   ]
  },
  {
   "cell_type": "code",
   "execution_count": 6,
   "metadata": {},
   "outputs": [
    {
     "data": {
      "text/plain": [
       "6.466666666666666"
      ]
     },
     "execution_count": 6,
     "metadata": {},
     "output_type": "execute_result"
    }
   ],
   "source": [
    "d/c"
   ]
  },
  {
   "cell_type": "markdown",
   "metadata": {
    "id": "N5buTa8t2wTh"
   },
   "source": [
    "## Operator Precedence\n",
    "Excute the code blocks below to see the effects of [operator precendence](https://introcs.cs.princeton.edu/python/appendix_precedence/ \"operator precendence reminder\")"
   ]
  },
  {
   "cell_type": "code",
   "execution_count": 9,
   "metadata": {
    "id": "FTCIsm7l3qwn"
   },
   "outputs": [
    {
     "data": {
      "text/plain": [
       "13.5"
      ]
     },
     "execution_count": 9,
     "metadata": {},
     "output_type": "execute_result"
    }
   ],
   "source": [
    "a * b + c"
   ]
  },
  {
   "cell_type": "code",
   "execution_count": 10,
   "metadata": {
    "id": "0JnjoJAM3y9U"
   },
   "outputs": [
    {
     "data": {
      "text/plain": [
       "16.5"
      ]
     },
     "execution_count": 10,
     "metadata": {},
     "output_type": "execute_result"
    }
   ],
   "source": [
    "a * (b + c)"
   ]
  },
  {
   "cell_type": "code",
   "execution_count": 11,
   "metadata": {
    "id": "gaMqQlnr382g"
   },
   "outputs": [
    {
     "data": {
      "text/plain": [
       "19"
      ]
     },
     "execution_count": 11,
     "metadata": {},
     "output_type": "execute_result"
    }
   ],
   "source": [
    "a + b**2"
   ]
  },
  {
   "cell_type": "code",
   "execution_count": 12,
   "metadata": {
    "id": "hmqIAwlZ4ARC"
   },
   "outputs": [
    {
     "data": {
      "text/plain": [
       "49"
      ]
     },
     "execution_count": 12,
     "metadata": {},
     "output_type": "execute_result"
    }
   ],
   "source": [
    "(a + b)**2"
   ]
  },
  {
   "cell_type": "markdown",
   "metadata": {
    "id": "SyvhijqM4Ifd"
   },
   "source": [
    "## Control abstractions\n",
    "\n",
    "That's enough to get us started so all we need now are the basic Python control abstractions. You will recall from Chapter of the book that in **HTTLAP** we have the `IF...THEN` and `IF...THEN...ELSE` abstractions for handling selection and the `WHILE...ENDWHILE`, `DO...WHILE`, and `FOR...ENDFOR` abstractions for handling iterations. Python offers us equivalents for these and, as we shall see later, Python's `for` loops can be very powerful.\n",
    "\n",
    "## <font color='blue'>Selection: `IF...THEN`</font>\n",
    "A simple selection in *HTTLAP* would look like this:\n",
    "````\n",
    "IF (a < b) THEN\n",
    "   Display (a is less than b)\n",
    "ENDIF\n",
    "````\n",
    "The following code block shows how we can do this in Python. "
   ]
  },
  {
   "cell_type": "code",
   "execution_count": 27,
   "metadata": {
    "id": "v8goS1-U6QSU"
   },
   "outputs": [
    {
     "name": "stdout",
     "output_type": "stream",
     "text": [
      "a is less than b\n"
     ]
    }
   ],
   "source": [
    "# Selection statement in Python\n",
    "if (a < b):\n",
    "  print (\"a is less than b\")"
   ]
  },
  {
   "cell_type": "markdown",
   "metadata": {
    "id": "0V-9F9Z26OnT"
   },
   "source": [
    "Note the colon at the end of the line containing the keyword `if`, the fact that the keyword is in lowercase, and also the indentation of the `print` statement. Indentation is mandatory in Python as it is used to show nesting, that is, what lines belong to what. For example, consider the following two code blocks. The indentation of the third line in the second example causes that line to be executed as part of the `if`'s action block. Execute both blocks, first time setting the age to 25 and second time setting the age to 17."
   ]
  },
  {
   "cell_type": "code",
   "execution_count": 23,
   "metadata": {
    "id": "IO97sifl6xyn"
   },
   "outputs": [
    {
     "name": "stdout",
     "output_type": "stream",
     "text": [
      "Please try again when you are an adult\n"
     ]
    }
   ],
   "source": [
    "# Indentation example 1\n",
    "age = 25\n",
    "if (age < 18):\n",
    "  print (\"Sorry, you are too young to vote\")\n",
    "print (\"Please try again when you are an adult\")\n",
    "\n",
    "# Here, for any age it will be printed 'Please...' \n",
    "# but because the 'Sorry...' message is in the loop, it will be printed."
   ]
  },
  {
   "cell_type": "code",
   "execution_count": 24,
   "metadata": {
    "id": "6Yh77nKv7EdJ"
   },
   "outputs": [],
   "source": [
    "# Indentation example 2\n",
    "age = 25\n",
    "if (age < 18):\n",
    "  print (\"Sorry, you are too young to vote\")\n",
    "  print (\"Please try again when you are an adult\")\n",
    "\n",
    "# Here, for age less than 18 will print both signs"
   ]
  },
  {
   "cell_type": "markdown",
   "metadata": {
    "id": "DxjOjyTu7RxX"
   },
   "source": [
    "See how when the age is 18 or over the first example still displays the message \"Please try again when you are an adult\" wherease the second one does not. This is why indentation is critical in Python. While some languages use pairs of brackets (`{...}`) or `BEGIN...END` keyword pairs to denote the start and end of an action block, Python relies on indentation. **This will be a common source of error as your begin learning Python.**"
   ]
  },
  {
   "cell_type": "markdown",
   "metadata": {
    "id": "zmD-V21H87Ed"
   },
   "source": [
    "## <font color='blue'>Selection: `IF...THEN...ELSE`</font>\n",
    "\n",
    "When we need to specify an alternative course of action, *HTTLAP* offers us the `ELSE` keyword. For example:\n",
    "````\n",
    "IF (a < 10)\n",
    "   Display ('High')\n",
    "ELSE\n",
    "   Display ('Low')\n",
    "ENDIF\n",
    "````\n",
    "\n",
    "In Python this would look like this:"
   ]
  },
  {
   "cell_type": "code",
   "execution_count": 25,
   "metadata": {
    "id": "AOBr4Qe87RU4"
   },
   "outputs": [
    {
     "name": "stdout",
     "output_type": "stream",
     "text": [
      "High\n"
     ]
    }
   ],
   "source": [
    "# IF..THEN...ELSE in Python\n",
    "\n",
    "if (a < 10):\n",
    "  print ('High')\n",
    "else:\n",
    "  print ('Low')"
   ]
  },
  {
   "cell_type": "markdown",
   "metadata": {
    "id": "0Ch5njaK9yqP"
   },
   "source": [
    "If you want to make the output display 'Low', just go back up to code box 3 near the top of this notebook and change the statement that assigns the value 3 to `a`. This demonstrates a neat feature of Jupypter notebooks which is that we can spread our programs across many code boxes but the results of earlier code boxes affect the behaviour of later ones. **Remember to change the value of `a` back to 3 once you're done so that everything will run as expected next time you come back to this notebook.**\n",
    "\n",
    "Remember the student grade calculator from Chapter 6 of the book (p. 147)? It looked like this:\n",
    "````\n",
    "IF (mark ≥ 80)\n",
    "   grade ← ‘A’ ;\n",
    "ELSE IF (mark ≥ 70) \n",
    "   grade ← ‘B’ ; \n",
    "ELSE IF (mark ≥ 60) \n",
    "   grade ← ‘C’ ;\n",
    "ELSE IF (mark ≥ 50) \n",
    "   grade ← ‘D’ ; \n",
    "ELSE IF (mark ≥ 40) \n",
    "   grade ← ‘E’ ;\n",
    "ELSE\n",
    "   grade ← ‘F’ ;\n",
    "ENDIF\n",
    "````\n",
    "The following code box implements this in Python. Try setting different values for the variable `mark` to convince yourself that it works. Note how the `ELSE IF` in *HTTLAP* becomes `elif` in Python.\n"
   ]
  },
  {
   "cell_type": "code",
   "execution_count": 28,
   "metadata": {
    "id": "mt0KJyke_MkF"
   },
   "outputs": [
    {
     "name": "stdout",
     "output_type": "stream",
     "text": [
      "Your grade is : F\n"
     ]
    }
   ],
   "source": [
    "# Grade calculator\n",
    "mark = 39\n",
    "if (mark >= 80):\n",
    "  grade = 'A'\n",
    "elif (mark >= 70):\n",
    "  grade = 'B'\n",
    "elif (mark >= 60):\n",
    "  grade = 'C'\n",
    "elif (mark >= 50):\n",
    "  grade = 'D'\n",
    "elif (mark >= 40):\n",
    "  grade = 'E'\n",
    "else:\n",
    "  grade = 'F'\n",
    "print ('Your grade is :', grade)"
   ]
  },
  {
   "cell_type": "markdown",
   "metadata": {
    "id": "zUZTeFHw__6C"
   },
   "source": [
    "## <font color='blue'>Relational operators</font>\n",
    "The example above introduced Python's relational operators, which we use to compare variables or expressions to each other. The table below shows the *HTTLAP* operators and the equivalent Python operator.\n",
    "\n",
    "|*HTTLAP*|Python|Meaning|\n",
    "|--------|------|-------|\n",
    "|$>$ | `>` |Greater than. True if the left operand is bigger than the right.|\n",
    "|$<$ | `<`| Less than. True if the left operand is smaller than the right.|\n",
    "|$=$ | `==`| Is equal: True if both operands have the same value.|\n",
    "|$\\ne$| `!=` | Is not equal: True if the operands have different values.|\n",
    "|$\\ge$ | `>=`| Greater than *or* equal. True if the left operand is bigger than or equal to the right.|\n",
    "|$\\le$ | `<=`| Less than *or* equal. True if the left operand is less than or equal to the right.|"
   ]
  },
  {
   "cell_type": "markdown",
   "metadata": {
    "id": "E43UYmb6B1BO"
   },
   "source": [
    "## <font color='blue'>Logical operators</font>\n",
    "In addition to the arithmetic and relational operators, the *HTTLAP* pseudocode also has *logical* operators for comparing the truth values of expressions. Python has equivalent operators as shown in the table below.\n",
    "\n",
    "|*HTTLAP*|Python|Meaning|Example|\n",
    "|--------|------|-------|-------|\n",
    "|AND| and |True if both operands are true| `a < 5 and b < 10`|\n",
    "|OR| or | True if either (or both) operand is true| `name == 'ZZZ' or mark == 0`|\n",
    "|NOT| not |A unary operator that gives the oppostite truth value to its operand| `NOT failed`|\n",
    "\n",
    "We will use these in some of the iteration examples below.\n"
   ]
  },
  {
   "cell_type": "markdown",
   "metadata": {
    "id": "MdoMJ6QMD-Pj"
   },
   "source": [
    "## <font color='blue'>Iterations: `WHILE...ENDWHILE`</font>\n",
    "The *HTTLAP* `WHILE` loop example from page 250 of the book looked like this\"\n",
    "\n",
    "````\n",
    "string: name;\n",
    "integer: mark,\n",
    "         total,\n",
    "         numberOfMarks;\n",
    "total ← 0;\n",
    "Get (name and mark from user);\n",
    "WHILE (name ≠ 'ZZZZZ') OR (mark ≠ 0)\n",
    "    total ← total + mark;\n",
    "    numberOfMarks ← numberOfMarks + 1;\n",
    "    Get (next name and mark from user);\n",
    "ENDWHILE\n",
    "````\n",
    "\n",
    "The following code block implements this algorithm in Python. It also shows how we can type numbers into our programs using the `input` function."
   ]
  },
  {
   "cell_type": "code",
   "execution_count": 31,
   "metadata": {
    "id": "0ZJj-SzvFl6c"
   },
   "outputs": [
    {
     "name": "stdout",
     "output_type": "stream",
     "text": [
      "Enter name: ZZZZZ\n",
      "Enter a mark:0\n",
      "Number of marks:  0\n",
      "Marks total: 0\n"
     ]
    },
    {
     "ename": "ZeroDivisionError",
     "evalue": "division by zero",
     "output_type": "error",
     "traceback": [
      "\u001b[1;31m---------------------------------------------------------------------------\u001b[0m",
      "\u001b[1;31mZeroDivisionError\u001b[0m                         Traceback (most recent call last)",
      "\u001b[1;32m<ipython-input-31-0d7c941d4716>\u001b[0m in \u001b[0;36m<module>\u001b[1;34m\u001b[0m\n\u001b[0;32m     12\u001b[0m \u001b[0mprint\u001b[0m \u001b[1;33m(\u001b[0m\u001b[1;34m'Number of marks: '\u001b[0m\u001b[1;33m,\u001b[0m \u001b[0mnumberOfMarks\u001b[0m\u001b[1;33m)\u001b[0m\u001b[1;33m\u001b[0m\u001b[1;33m\u001b[0m\u001b[0m\n\u001b[0;32m     13\u001b[0m \u001b[0mprint\u001b[0m \u001b[1;33m(\u001b[0m\u001b[1;34m'Marks total:'\u001b[0m\u001b[1;33m,\u001b[0m \u001b[0mtotal\u001b[0m\u001b[1;33m)\u001b[0m\u001b[1;33m\u001b[0m\u001b[1;33m\u001b[0m\u001b[0m\n\u001b[1;32m---> 14\u001b[1;33m \u001b[0mprint\u001b[0m \u001b[1;33m(\u001b[0m\u001b[1;34m'Average mark: '\u001b[0m\u001b[1;33m,\u001b[0m \u001b[0mtotal\u001b[0m\u001b[1;33m/\u001b[0m\u001b[0mnumberOfMarks\u001b[0m\u001b[1;33m)\u001b[0m\u001b[1;33m\u001b[0m\u001b[1;33m\u001b[0m\u001b[0m\n\u001b[0m",
      "\u001b[1;31mZeroDivisionError\u001b[0m: division by zero"
     ]
    }
   ],
   "source": [
    "# Student marks entry\n",
    "\n",
    "total = 0\n",
    "numberOfMarks = 0\n",
    "name = input('Enter name: ')\n",
    "mark = int(input('Enter a mark:'))\n",
    "while (name != 'ZZZZZ' or mark != 0):\n",
    "  total += mark\n",
    "  numberOfMarks+=1\n",
    "  name = input('Enter name: ')\n",
    "  mark = int(input('Enter a mark:'))\n",
    "print ('Number of marks: ', numberOfMarks)\n",
    "print ('Marks total:', total)\n",
    "print ('Average mark: ', total/numberOfMarks)"
   ]
  },
  {
   "cell_type": "markdown",
   "metadata": {
    "id": "J2HyMzbWHTLb"
   },
   "source": [
    "### Things to note\n",
    "\n",
    "\n",
    "1.   Note how the `while` loop, like the `if` statement uses a colon at the end aof the line and then indentation to denote the action block.\n",
    "2.   The line `name = input('Enter name: ')' calls the function `input` which allows you to enter some text. The text is stored in the variable `name`.\n",
    "3. The line `mark = int(input('Enter a mark:'))` is similar but note how it wraps the input expression in `int()`? This is because the `input` function always returns a string value. But as we are using it here to get a numeric value we use the `int()` notation to convert the result to an integer. If we forget to do this then the program will crash when we try to carry out arithmetic on the `mark` variable.\n",
    "4. The line `total += mark` adds the value of `mark` to the current value of `total`. This is equivalent to writing `total = total + mark`. The `+=` operator is a convenient short-hand for this.\n",
    "5. I have added `print` statements at the bottom to show the results. Note how the last one calculates the average mark and then displays it. Try running the program again, but this time enter a name of `ZZZZZ` and a mark of 0 the first time you are prompted. Why does the program crash at the end? *If you can't answer this, have a look at Solution 6.11 on page 161 of How to Think Like a Programmer.*\n",
    "\n"
   ]
  },
  {
   "cell_type": "markdown",
   "metadata": {
    "id": "yvwReZ3pJZM3"
   },
   "source": [
    "## <font color='blue'>Iterations: `DO...WHILE`</font>\n",
    "The ATM example from Chapter 6 (p. 157) looked like this:\n",
    "\n",
    "````\n",
    "DO\n",
    "   Display 'Please enter your PIN';\n",
    "   Get PIN;\n",
    "WHILE (pin ≠ storedPIN);\n",
    "````\n",
    "\n",
    "Unfortunately, Python doesn't have an equivalent control abstraction. Therefore, to implement an *at-least-once* iteration, we have to force the `while`'s continuing condition to be true at the first evaluation. Here's an example of how we could do this."
   ]
  },
  {
   "cell_type": "code",
   "execution_count": 32,
   "metadata": {
    "id": "5i21JiCQJ0mS"
   },
   "outputs": [
    {
     "name": "stdout",
     "output_type": "stream",
     "text": [
      "Please enter your PIN 5650\n",
      "Please enter your PIN 1234\n",
      "Pin successfully entered.\n"
     ]
    }
   ],
   "source": [
    "# ATM DO...WHILE example\n",
    "\n",
    "#Variable to hold the stored PIN\n",
    "storedPIN = 1234;\n",
    "PIN = -9999\n",
    "\n",
    "while (PIN != storedPIN):\n",
    "  PIN = int(input('Please enter your PIN '))\n",
    "print ('Pin successfully entered.')\n"
   ]
  },
  {
   "cell_type": "markdown",
   "metadata": {
    "id": "s4c2s51oLIae"
   },
   "source": [
    "Another way to do it is to put in a condition that is *always* true and then break out of the loop when the PIN is correctly input. The following example uses the `break` keyword to do just that. `break` tells the program to break out of whatever action block it is in and to proceed with the next one."
   ]
  },
  {
   "cell_type": "code",
   "execution_count": 33,
   "metadata": {
    "id": "rl9TmttHLgkd"
   },
   "outputs": [
    {
     "name": "stdout",
     "output_type": "stream",
     "text": [
      "Please enter your PIN 1235\n",
      "Please enter your PIN 1234\n",
      "Pin successfully entered.\n"
     ]
    }
   ],
   "source": [
    "# ATM example with a break out\n",
    "\n",
    "#Variable to hold the stored PIN\n",
    "storedPIN = 1234;\n",
    "\n",
    "while (True):  # This condition will ALWAYS be true as it effectively says while True == True.\n",
    "  PIN = int(input('Please enter your PIN '))\n",
    "  if (PIN == storedPIN):\n",
    "    break\n",
    "print ('Pin successfully entered.')"
   ]
  },
  {
   "cell_type": "markdown",
   "metadata": {
    "id": "q1tnUhLHL864"
   },
   "source": [
    "## <font color='blue'>Iterations: `FOR...ENDFOR`</font>\n",
    "A loop abstraction we will, perhaps, use most often in Python is the `for` loop. Recall, that our *HTTLAP* pseudocode offered us the following abstraction:\n",
    "\n",
    "````\n",
    "FOR variable GOES FROM startVal to endVal\n",
    "   Action block ;\n",
    "ENDFOR\n",
    "````\n",
    "\n",
    "Thus, we could calculate the average monthly rainfall in mm like this:\n",
    "\n",
    "````\n",
    "totalRainfall ← 0;\n",
    "FOR month GOES FROM 1 to 12\n",
    "    Display 'Enter monthly rainfall';\n",
    "    Get monthly rainfall;\n",
    "    totalRainfall ← totalRainfall + monthlyRainfall;\n",
    "ENDFOR\n",
    "Display 'Average monthly rainfall is ', totalRainfall ÷ 12, 'mm' ;\n",
    "````\n",
    "\n",
    "The code block below shows how we could do this in Python."
   ]
  },
  {
   "cell_type": "code",
   "execution_count": 39,
   "metadata": {
    "id": "qb_Ijy6rNaOL"
   },
   "outputs": [
    {
     "name": "stdout",
     "output_type": "stream",
     "text": [
      "Enter monthly rainfall 2\n",
      "0\n"
     ]
    },
    {
     "ename": "KeyboardInterrupt",
     "evalue": "Interrupted by user",
     "output_type": "error",
     "traceback": [
      "\u001b[1;31m---------------------------------------------------------------------------\u001b[0m",
      "\u001b[1;31mKeyboardInterrupt\u001b[0m                         Traceback (most recent call last)",
      "\u001b[1;32m<ipython-input-39-371c3c759063>\u001b[0m in \u001b[0;36m<module>\u001b[1;34m\u001b[0m\n\u001b[0;32m      3\u001b[0m \u001b[0mtotalRainfall\u001b[0m \u001b[1;33m=\u001b[0m \u001b[1;36m0\u001b[0m\u001b[1;33m;\u001b[0m\u001b[1;33m\u001b[0m\u001b[1;33m\u001b[0m\u001b[0m\n\u001b[0;32m      4\u001b[0m \u001b[1;32mfor\u001b[0m \u001b[0mmonth\u001b[0m \u001b[1;32min\u001b[0m \u001b[0mrange\u001b[0m \u001b[1;33m(\u001b[0m\u001b[1;36m12\u001b[0m\u001b[1;33m)\u001b[0m\u001b[1;33m:\u001b[0m\u001b[1;33m\u001b[0m\u001b[1;33m\u001b[0m\u001b[0m\n\u001b[1;32m----> 5\u001b[1;33m   \u001b[0mmonthlyRainfall\u001b[0m \u001b[1;33m=\u001b[0m \u001b[0mint\u001b[0m\u001b[1;33m(\u001b[0m\u001b[0minput\u001b[0m\u001b[1;33m(\u001b[0m\u001b[1;34m'Enter monthly rainfall '\u001b[0m\u001b[1;33m)\u001b[0m\u001b[1;33m)\u001b[0m\u001b[1;33m\u001b[0m\u001b[1;33m\u001b[0m\u001b[0m\n\u001b[0m\u001b[0;32m      6\u001b[0m   \u001b[0mtotalRainfall\u001b[0m \u001b[1;33m+=\u001b[0m \u001b[0mmonthlyRainfall\u001b[0m\u001b[1;33m\u001b[0m\u001b[1;33m\u001b[0m\u001b[0m\n\u001b[0;32m      7\u001b[0m   \u001b[0mprint\u001b[0m \u001b[1;33m(\u001b[0m\u001b[0mmonth\u001b[0m\u001b[1;33m)\u001b[0m\u001b[1;33m\u001b[0m\u001b[1;33m\u001b[0m\u001b[0m\n",
      "\u001b[1;32mC:\\ProgramData\\Anaconda3\\lib\\site-packages\\ipykernel\\kernelbase.py\u001b[0m in \u001b[0;36mraw_input\u001b[1;34m(self, prompt)\u001b[0m\n\u001b[0;32m    858\u001b[0m                 \u001b[1;34m\"raw_input was called, but this frontend does not support input requests.\"\u001b[0m\u001b[1;33m\u001b[0m\u001b[1;33m\u001b[0m\u001b[0m\n\u001b[0;32m    859\u001b[0m             )\n\u001b[1;32m--> 860\u001b[1;33m         return self._input_request(str(prompt),\n\u001b[0m\u001b[0;32m    861\u001b[0m             \u001b[0mself\u001b[0m\u001b[1;33m.\u001b[0m\u001b[0m_parent_ident\u001b[0m\u001b[1;33m,\u001b[0m\u001b[1;33m\u001b[0m\u001b[1;33m\u001b[0m\u001b[0m\n\u001b[0;32m    862\u001b[0m             \u001b[0mself\u001b[0m\u001b[1;33m.\u001b[0m\u001b[0m_parent_header\u001b[0m\u001b[1;33m,\u001b[0m\u001b[1;33m\u001b[0m\u001b[1;33m\u001b[0m\u001b[0m\n",
      "\u001b[1;32mC:\\ProgramData\\Anaconda3\\lib\\site-packages\\ipykernel\\kernelbase.py\u001b[0m in \u001b[0;36m_input_request\u001b[1;34m(self, prompt, ident, parent, password)\u001b[0m\n\u001b[0;32m    902\u001b[0m             \u001b[1;32mexcept\u001b[0m \u001b[0mKeyboardInterrupt\u001b[0m\u001b[1;33m:\u001b[0m\u001b[1;33m\u001b[0m\u001b[1;33m\u001b[0m\u001b[0m\n\u001b[0;32m    903\u001b[0m                 \u001b[1;31m# re-raise KeyboardInterrupt, to truncate traceback\u001b[0m\u001b[1;33m\u001b[0m\u001b[1;33m\u001b[0m\u001b[1;33m\u001b[0m\u001b[0m\n\u001b[1;32m--> 904\u001b[1;33m                 \u001b[1;32mraise\u001b[0m \u001b[0mKeyboardInterrupt\u001b[0m\u001b[1;33m(\u001b[0m\u001b[1;34m\"Interrupted by user\"\u001b[0m\u001b[1;33m)\u001b[0m \u001b[1;32mfrom\u001b[0m \u001b[1;32mNone\u001b[0m\u001b[1;33m\u001b[0m\u001b[1;33m\u001b[0m\u001b[0m\n\u001b[0m\u001b[0;32m    905\u001b[0m             \u001b[1;32mexcept\u001b[0m \u001b[0mException\u001b[0m \u001b[1;32mas\u001b[0m \u001b[0me\u001b[0m\u001b[1;33m:\u001b[0m\u001b[1;33m\u001b[0m\u001b[1;33m\u001b[0m\u001b[0m\n\u001b[0;32m    906\u001b[0m                 \u001b[0mself\u001b[0m\u001b[1;33m.\u001b[0m\u001b[0mlog\u001b[0m\u001b[1;33m.\u001b[0m\u001b[0mwarning\u001b[0m\u001b[1;33m(\u001b[0m\u001b[1;34m\"Invalid Message:\"\u001b[0m\u001b[1;33m,\u001b[0m \u001b[0mexc_info\u001b[0m\u001b[1;33m=\u001b[0m\u001b[1;32mTrue\u001b[0m\u001b[1;33m)\u001b[0m\u001b[1;33m\u001b[0m\u001b[1;33m\u001b[0m\u001b[0m\n",
      "\u001b[1;31mKeyboardInterrupt\u001b[0m: Interrupted by user"
     ]
    }
   ],
   "source": [
    "# FOR loop for monthly rainfall\n",
    "\n",
    "totalRainfall = 0;\n",
    "for month in range (12):\n",
    "  monthlyRainfall = int(input('Enter monthly rainfall '))\n",
    "  totalRainfall += monthlyRainfall\n",
    "  #print (month)\n",
    "print ('Average monthly rainfall is ', totalRainfall/12, 'mm')"
   ]
  },
  {
   "cell_type": "markdown",
   "metadata": {
    "id": "XZH9KzHgOT1c"
   },
   "source": [
    "### Things to note\n",
    "\n",
    "1.   The line `for month in range (3):` is the equivalent of saying in *HTTLAP* pseudocode `FOR month GOES FROM 0 to 2`. This is because the `range` function generates a sequence of numbers from zero to one less than its argument. Thus, `range(3)` generates the numbers 0, 1, 2; `range(12)` generates 0, 1, 2, 3, 4, 5, 6, 7, 8, 9 10, 11, and so on. If we want to force the starting value to something other than zero so that we go from 1 to 12, we could do this like this: `for month in range (1, 13):`. To see the values `month` takes each time round the loop, uncomment the line `print (month)` by deleting the `#` character.\n",
    "2.   Experiment with different ranges to see the effects. \n",
    "\n"
   ]
  },
  {
   "cell_type": "markdown",
   "metadata": {
    "id": "dRo1BoujSOQI"
   },
   "source": [
    "#<font color='red'>CAUTION</font>\n",
    "Python's `for` abstraction is technically used for iterating over a sequence of things where that sequence could be a list, a tuple, a set, a dicitonary, or a string).  \n",
    "\n",
    "Thus, although it has the same name as the `for` loops in other languages (such as c and Java), it behaves quite differently. It really comes into its own when doing data science-type tasks when we want to iterate over collections of data and manipulate the values in some way.\n",
    "\n",
    "For example, the code block below creates a list of strings. The following code blocks iterate over that list in various ways. Make sure to run the list generation code block once before trying the others."
   ]
  },
  {
   "cell_type": "code",
   "execution_count": 40,
   "metadata": {
    "id": "AQFaT7LgTeds"
   },
   "outputs": [],
   "source": [
    "# Generate a list of strings.\n",
    "\n",
    "building = [\"Dining room\", \"Living room\", \"Kitchen\", \"Bathroom\", \"Bedroom 1\", \n",
    "            \"Bedroom 2\", \"Bedroom 3\"]"
   ]
  },
  {
   "cell_type": "code",
   "execution_count": 41,
   "metadata": {
    "id": "czhZcB-mTzm8"
   },
   "outputs": [
    {
     "name": "stdout",
     "output_type": "stream",
     "text": [
      "There are 7 rooms\n"
     ]
    }
   ],
   "source": [
    "# Count the number of rooms\n",
    "count = 0\n",
    "for x in building:\n",
    "  count +=1\n",
    "print ('There are', count, 'rooms')"
   ]
  },
  {
   "cell_type": "code",
   "execution_count": 42,
   "metadata": {
    "id": "DARxsOuMVjNv"
   },
   "outputs": [
    {
     "name": "stdout",
     "output_type": "stream",
     "text": [
      "There are 7 rooms\n"
     ]
    }
   ],
   "source": [
    "#Note, we could also achieve the same result like this:\n",
    "print ('There are', len (building), 'rooms')"
   ]
  },
  {
   "cell_type": "code",
   "execution_count": 43,
   "metadata": {
    "id": "m2pazzU8URKu"
   },
   "outputs": [
    {
     "name": "stdout",
     "output_type": "stream",
     "text": [
      "There are 3 bedrooms\n"
     ]
    }
   ],
   "source": [
    "# Count the number of bedrooms\n",
    "count = 0\n",
    "for x in building:\n",
    "  if 'Bedroom' in x:\n",
    "    count += 1\n",
    "print ('There are', count, 'bedrooms')"
   ]
  },
  {
   "cell_type": "markdown",
   "metadata": {
    "id": "-GPDuH-9YSYj"
   },
   "source": [
    "## A more interesting list\n",
    "The code block below creates a list of *tuples* in which each tuple contains two values: a string giving the name of the room and a number giving its size in square metres.\n",
    "\n",
    "A tuple is like a list, but it is said to be *immutable*, that is, its values cannot be changed. The individual elements of a list, tuple, etc are indexed, with the first element having index 0, the second an index of 1, and so on."
   ]
  },
  {
   "cell_type": "code",
   "execution_count": 44,
   "metadata": {
    "id": "5hgkqJP1Xmxt"
   },
   "outputs": [],
   "source": [
    "newBuilding = [('Dining room', 15.4), ('Living room', 16.0), ('Kitchen', 6.5), ('Bathroom', 5.4), \n",
    "               ('Bedroom 1', 20.0), ('Bedroom 2', 18.7), ('Bedroom 3', 7.5)]"
   ]
  },
  {
   "cell_type": "markdown",
   "metadata": {
    "id": "QviWAcreZFLd"
   },
   "source": [
    "The code block below iterates over all the rooms and, for each room reports on whether it is small or not, where small means it has an area of less than 8 square metres. Note how the area is given by accessing the tuple element of index 1 and the name of the room by index 0."
   ]
  },
  {
   "cell_type": "code",
   "execution_count": 45,
   "metadata": {
    "id": "BO8XfM68Y9uB"
   },
   "outputs": [
    {
     "name": "stdout",
     "output_type": "stream",
     "text": [
      "Kitchen is too small\n",
      "Bathroom is too small\n",
      "Bedroom 3 is too small\n"
     ]
    }
   ],
   "source": [
    "# Small room report\n",
    "for x in newBuilding:\n",
    "  if x[1]<8:\n",
    "    print (x[0], 'is too small')"
   ]
  },
  {
   "cell_type": "markdown",
   "metadata": {
    "id": "Iw_aJz4IbQtZ"
   },
   "source": [
    "Let's create a new list of all the rooms that are small."
   ]
  },
  {
   "cell_type": "code",
   "execution_count": 46,
   "metadata": {
    "id": "uwmiVqyXbZ7V"
   },
   "outputs": [
    {
     "name": "stdout",
     "output_type": "stream",
     "text": [
      "[('Kitchen', 6.5), ('Bathroom', 5.4), ('Bedroom 3', 7.5)]\n"
     ]
    }
   ],
   "source": [
    "smallRooms = []\n",
    "for x in newBuilding:\n",
    "  if x[1]<8:\n",
    "    smallRooms.append(x)\n",
    "print (smallRooms)"
   ]
  },
  {
   "cell_type": "markdown",
   "metadata": {
    "id": "bK6ZEjPnbHvV"
   },
   "source": [
    "Let's refine the code to report only on small bedrooms."
   ]
  },
  {
   "cell_type": "code",
   "execution_count": 47,
   "metadata": {
    "id": "4TvJ6kb6azTM"
   },
   "outputs": [
    {
     "name": "stdout",
     "output_type": "stream",
     "text": [
      "Bedroom 3 is too small\n"
     ]
    }
   ],
   "source": [
    "# Small bedroom report\n",
    "for x in newBuilding:\n",
    "  if 'Bedroom' in x[0] and x[1]<8:\n",
    "    print (x[0], 'is too small')"
   ]
  },
  {
   "cell_type": "markdown",
   "metadata": {
    "id": "rKrycRVAb_fH"
   },
   "source": [
    "Let's calculate the total area of the house as well as the total area of the small rooms and the other rooms separately"
   ]
  },
  {
   "cell_type": "code",
   "execution_count": 48,
   "metadata": {
    "id": "iTV7AjREcGkD"
   },
   "outputs": [
    {
     "name": "stdout",
     "output_type": "stream",
     "text": [
      "Total area of small rooms is 19.4\n",
      "Total area of other rooms is  70.1\n",
      "Total area if house is 89.5\n"
     ]
    }
   ],
   "source": [
    "smallRooms = 0\n",
    "otherRooms = 0\n",
    "for x in newBuilding:\n",
    "  if x[1]<8:\n",
    "    smallRooms += x[1]\n",
    "  else:\n",
    "    otherRooms += x[1]\n",
    "print ('Total area of small rooms is', smallRooms)\n",
    "print ('Total area of other rooms is ', otherRooms)\n",
    "print ('Total area if house is', smallRooms + otherRooms)\n"
   ]
  },
  {
   "cell_type": "markdown",
   "metadata": {
    "id": "zbovNx9sjJlY"
   },
   "source": [
    "#List and string manipulation\n",
    "Often we need to access parts of a list or a string (which is really like a list of characters).\n",
    "For example, consider the following list of two strings holding the given name and family name of a person:"
   ]
  },
  {
   "cell_type": "code",
   "execution_count": 49,
   "metadata": {
    "id": "EB9uqxXSje-U"
   },
   "outputs": [],
   "source": [
    "name = [\"Paul\", \"Vickers\"]"
   ]
  },
  {
   "cell_type": "markdown",
   "metadata": {
    "id": "nByXAyYLjicX"
   },
   "source": [
    "I can easily display the person's initials like this:"
   ]
  },
  {
   "cell_type": "code",
   "execution_count": 50,
   "metadata": {
    "id": "66L7VszWjnmk"
   },
   "outputs": [
    {
     "name": "stdout",
     "output_type": "stream",
     "text": [
      "P V\n"
     ]
    }
   ],
   "source": [
    "given = name[0]\n",
    "family = name[1]\n",
    "print (given[0], family[0])"
   ]
  },
  {
   "cell_type": "markdown",
   "metadata": {
    "id": "7jSbFyI3j5d7"
   },
   "source": [
    "Or, I could do it in one line of code:"
   ]
  },
  {
   "cell_type": "code",
   "execution_count": 51,
   "metadata": {
    "id": "RaI5rmwWj7uH"
   },
   "outputs": [
    {
     "name": "stdout",
     "output_type": "stream",
     "text": [
      "P V\n"
     ]
    }
   ],
   "source": [
    "print (name[0][0], name[1][0])"
   ]
  },
  {
   "cell_type": "markdown",
   "metadata": {
    "id": "e3O0ssDnkKBt"
   },
   "source": [
    "Consider the following string which holds a customer's address:\n"
   ]
  },
  {
   "cell_type": "code",
   "execution_count": 52,
   "metadata": {
    "id": "aTxjePQJkP1r"
   },
   "outputs": [],
   "source": [
    "address = '14, Acacia Avenue, Townsville'"
   ]
  },
  {
   "cell_type": "markdown",
   "metadata": {
    "id": "J_Xn3wZjHRWf"
   },
   "source": [
    "I can split the address into its constituent parts (where the commas are):"
   ]
  },
  {
   "cell_type": "code",
   "execution_count": 53,
   "metadata": {
    "id": "8IKbC5CIkbhf"
   },
   "outputs": [
    {
     "name": "stdout",
     "output_type": "stream",
     "text": [
      "['14', 'Acacia Avenue', 'Townsville']\n"
     ]
    }
   ],
   "source": [
    "addressPartsList = address.split(', ')\n",
    "print (addressPartsList)"
   ]
  },
  {
   "cell_type": "markdown",
   "metadata": {
    "id": "hXLBTkIck_dY"
   },
   "source": [
    "Imagine we have product codes in the following format:\n",
    "**`XXX123456789ZZ`** where the first three characters are letters denoting the product group, the middle nine characaters are a unique identifier, and the final two characters are used for warehouse location. If we want to extract characters from fixed positions in a string, or elements from fixed positions in a list, then there  some handy string *slice* operator that lets us achieve this.\n",
    "\n",
    "The code block below breaks the product code up into its three elements based on the lengths of the individual components. It uses the slice operator `[:]` which lets us specify which parts of a string or list we want to access."
   ]
  },
  {
   "cell_type": "code",
   "execution_count": 54,
   "metadata": {
    "id": "ubPxKsObqt3R"
   },
   "outputs": [
    {
     "name": "stdout",
     "output_type": "stream",
     "text": [
      "XXX 123456789 ZZ\n"
     ]
    }
   ],
   "source": [
    "# String slicing\n",
    "productCode = 'XXX123456789ZZ'\n",
    "group = productCode[0:3] # Copy the characters from position 0 to position 3 (not included)\n",
    "ident = productCode[3:12] # Copy the characters from position 3 (the first digit) to position 12\n",
    "warehouse = productCode[-2:] # Copy from position -2 to the end. When - is used, it means start the slice from the end of the string\n",
    "print (group, ident, warehouse)"
   ]
  },
  {
   "cell_type": "markdown",
   "metadata": {
    "id": "383Q39Up0tWW"
   },
   "source": [
    "#Exercise: Marathon Times\n",
    "\n",
    "Below is an exercise that will get you thinking about how to manipulate numbers. It is usual, when working with times, to convert real-world timings into a figure in seconds as this makes comparisons between two times much simpler. Given that there are 3600 seconds in an hour, write an algorithm that takes the start and finish times of a marathon runner in the form hh:mm:ss, converts them to a time in seconds, subtracts the start seconds from the finish seconds to give an elapsed time, and then converts this elapsed time in seconds back into a real world time of the form hh:mm:ss for display. For example, say I started a marathon at 09:05:45 and finished at 13:01:06, my start time would be 09 $\\times$ 3600 + 05 $\\times$ 60 + 45 = 32,400 + 300 + 45 = 32,745 seconds. My finish time would be 46,800 + 60 + 06 = 46,866 seconds. My race time would then be 46,866 - 32,745 = 14,121 seconds. This comes to 03:55:21. The real problem here is how did I get 03:55:21 from 14,121? The solution is related to the change-giving problem from Chapter 3 in the book.\n",
    "\n",
    "**Hint** You will need to use integer arithmetic here. Remember the `//` operator gives you the _whole_ number of times one value goes into another, and the `%` operator gives you the remainder of that divison. For example:\n",
    "````\n",
    "52 // 24 == 2\n",
    "52 % 24 == 4\n",
    "````\n",
    "Thus, a period of 52 hours is equal to 2 days and 4 hours."
   ]
  },
  {
   "cell_type": "code",
   "execution_count": 86,
   "metadata": {
    "id": "bZlzsGl71n8L"
   },
   "outputs": [
    {
     "name": "stdout",
     "output_type": "stream",
     "text": [
      "The start time is:  32745 s\n",
      "The finish time is:  46866 s\n",
      "The marathon time is:  3 : 55 : 21\n"
     ]
    }
   ],
   "source": [
    "# Marathon times - Option 1\n",
    "startTime = '09:05:45'\n",
    "startTimeSec=int(startTime[0:2])*3600+int(startTime[4:5])*60+int(startTime[-2:])\n",
    "finishTime='13:01:06'\n",
    "finishTimeSec=int(finishTime[0:2])*3600+int(finishTime[4:5])*60+int(finishTime[-2:])\n",
    "marathonTimeSec=finishTimeSec-startTimeSec\n",
    "hh=(marathonTimeSec//3600)\n",
    "mm=(marathonTimeSec%3600)//60\n",
    "ss=marathonTimeSec-(hh*3600)-(mm*60)\n",
    "print('The start time is: ', startTimeSec, 's')\n",
    "print('The finish time is: ', finishTimeSec,'s')\n",
    "print('The marathon time is: ',hh,':',mm,\":\",ss)\n"
   ]
  },
  {
   "cell_type": "code",
   "execution_count": 88,
   "metadata": {},
   "outputs": [
    {
     "name": "stdout",
     "output_type": "stream",
     "text": [
      "The start time is:  32745 s\n",
      "The finish time is:  46866 s\n",
      "The marathon time is:  3:55:21\n"
     ]
    }
   ],
   "source": [
    "# Marathon times - Option 2\n",
    "def get_seconds(time_str):\n",
    "    # split in hh, mm, ss\n",
    "    hh, mm, ss = time_str.split(':')\n",
    "    return int(hh) * 3600 + int(mm) * 60 + int(ss)\n",
    "\n",
    "startTime = '09:05:45'\n",
    "startTimeSec = get_seconds(startTime)\n",
    "finishTime = '13:01:06'\n",
    "finishTimeSec = get_seconds(finishTime)\n",
    "\n",
    "marathonTimeSec = finishTimeSec-startTimeSec\n",
    "\n",
    "from datetime import timedelta\n",
    "print('The start time is: ', startTimeSec, 's')\n",
    "print('The finish time is: ', finishTimeSec,'s')\n",
    "print('The marathon time is: ', str(timedelta(seconds=marathonTimeSec)))"
   ]
  },
  {
   "cell_type": "markdown",
   "metadata": {
    "id": "1DaumUWdE9oT"
   },
   "source": [
    "# Exercise: Fertiliser Potency\n",
    "A University is testing a new fertilizer. They are interested in how long the fertilizer may be kept before its effectiveness is lost. They have done some calculations that indicate the fertilizer loses 6% of its potency every month. Design a Python algorithm that finds how many months it takes before the fertilizer has lost more than 50% of its effective power after which is must be thrown away. The first four months of potency figures would look like this:\n",
    "\n",
    "````\n",
    "Month 1, potency 100%\n",
    "Month 2, potency 94%\n",
    "Month 3, potency 88.36%\n",
    "Month 4, potency 83.0584%\n",
    "...\n",
    "Loses potency at month xx\n",
    "````\n",
    "\n",
    "The algorithm should produce summary messages for each month as above stopping after the potency has gone below 50%.\n",
    "\n",
    "*Note, you are removing 6% of the fertilizer’s remaining potency each month, not its original potency. That is why after month 3 the potency is 88.36% and not 88%.*"
   ]
  },
  {
   "cell_type": "code",
   "execution_count": 97,
   "metadata": {
    "id": "zBuiwnKlGpjB"
   },
   "outputs": [
    {
     "name": "stdout",
     "output_type": "stream",
     "text": [
      "Month 1 potency  94.0\n",
      "Month 2 potency  88.36\n",
      "Month 3 potency  83.05839999999999\n",
      "Month 4 potency  78.07489599999998\n",
      "Month 5 potency  73.39040223999997\n",
      "Month 6 potency  68.98697810559997\n",
      "Month 7 potency  64.84775941926397\n",
      "Month 8 potency  60.956893854108124\n",
      "Month 9 potency  57.29948022286163\n",
      "Month 10 potency  53.86151140948993\n",
      "Month 11 potency  50.62982072492053\n",
      "Month 12 potency  47.592031481425295\n",
      "Loses potency at month 12\n"
     ]
    }
   ],
   "source": [
    "# Potency test - put your code here\n",
    "potency = 100\n",
    "Month=0\n",
    "while potency > 50:\n",
    "    potency = potency*0.94\n",
    "    Month+=1\n",
    "    print('Month',Month,'potency ',potency)\n",
    "\n",
    "print('Loses potency at month', Month)"
   ]
  },
  {
   "cell_type": "markdown",
   "metadata": {
    "id": "R-_nTovU_DRO"
   },
   "source": [
    "# Exercise: Van Loading\n",
    "\n",
    "The van loading solution from Chapter 5 involved some nested `WHILE` loops. If we use a list to hold the weights of all the packages on the conveyor belt like this, with the final element being 0 to denote the end of the data:\n",
    "\n"
   ]
  },
  {
   "cell_type": "code",
   "execution_count": null,
   "metadata": {
    "id": "WCJaDDDlBGe0"
   },
   "outputs": [],
   "source": [
    "parcels = [50, 90, 120, 110, 40, 30, 85, 85, 110, 100, 100, 100, 100, 120, 90, 50, 85, 120, 40, 0]"
   ]
  },
  {
   "cell_type": "markdown",
   "metadata": {
    "id": "bDkNMzwaBI31"
   },
   "source": [
    "then you should be able to implement the van-loading algorithm below in Python. \n",
    "\n",
    "## Tips\n",
    "\n",
    "1.   Each time we load a parcel, we can remove it from the `parcels` list using the slice operation like so: \n",
    "`parcels = parcels [1:]`\n",
    "That will take all but the first element in the `parcels` list and overwrite the old list, thus removing the first element.\n",
    "2.   For the 'conveyor not empty' condition, use the Python condition `parcelWeight > 0`.\n",
    "3. To 'get' a parcel weight, assign the first element of the parcels list (`parcels[0]`) to the variable `parcelWeight`.\n",
    "3. Make sure you either run the code block above or copy it into your code block to ensure that the `parcels` variable is initialised with the list of parcels to be loaded.\n",
    "\n",
    "## The pseudocode algorithm\n",
    "````\n",
    "# Initialise variables\n",
    "parcels ← [50, 90, 120, 110, 40, 30, 85, 85, 110, 100, 100, 100, 100, 120, 90, 50, 85, 120, 40, 0] ;\n",
    "capacity ← 750 ;\n",
    "numberOfVans ← 0 ;\n",
    "heaviestVan ← 0 ;\n",
    "\n",
    "Get first parcelWeight ;\n",
    "WHILE (conveyor not empty)\n",
    "   # Process vans\n",
    "   payload ← 0\n",
    "   WHILE (payload + parcelWeight <= capacity) AND (conveyor NOT empty)\n",
    "      # Load a single van\n",
    "      payload ← payload + parcelWeight ;\n",
    "      Get next parcelWeight ;\n",
    "   ENDWHILE\n",
    "   print 'Van despatched' and its payload ;\n",
    "   numberOfVans ← numberOfVans + 1 ;\n",
    "   # Check whether this is the heaviest van\n",
    "   IF (payload > heaviestVan) THEN\n",
    "      heaviestVan ← payload ;\n",
    "   ENDIF\n",
    "ENDWHILE\n",
    "print number of vans despatched ;\n",
    "print payload of heaviest van ;\n",
    "````\n",
    "\n",
    "\n"
   ]
  },
  {
   "cell_type": "code",
   "execution_count": 1,
   "metadata": {
    "id": "NTDNQc2U5PQP"
   },
   "outputs": [
    {
     "name": "stdout",
     "output_type": "stream",
     "text": [
      "Van despatched 720\n",
      "Van despatched 745\n",
      "Van despatched 160\n",
      "number of vans despatched: 3\n",
      "payload of heaviest van: 745\n"
     ]
    }
   ],
   "source": [
    "# Van loading - put your solution here\n",
    "\n",
    "parcels = [50, 90, 120, 110, 40, 30, 85, 85, 110, 100, 100, 100, 100, 120, 90, 50, 85, 120, 40, 0]\n",
    "capacity = 750\n",
    "numberOfVans = 0\n",
    "heaviestVan = 0\n",
    "parcelWeight=parcels[0]\n",
    "while parcelWeight > 0:\n",
    "    payload = 0\n",
    "    while (payload+parcelWeight<=capacity)and (parcelWeight > 0):\n",
    "        payload =payload+parcelWeight\n",
    "        parcels = parcels [1:]\n",
    "        parcelWeight=parcels[0]\n",
    "    print('Van despatched',payload)\n",
    "    numberOfVans +=1\n",
    "    if(payload>heaviestVan):\n",
    "        heaviestVan=payload\n",
    "        \n",
    "print('number of vans despatched:',numberOfVans)\n",
    "print('payload of heaviest van:',heaviestVan)"
   ]
  },
  {
   "cell_type": "markdown",
   "metadata": {
    "id": "YriSv02VNJ-n"
   },
   "source": [
    "# Further Practice: Codingbat\n",
    "To get more practice with Python, visit the [CodingBat](https://codingbat.com/python \"CodingBat Python practice\") website where you can access a collection of short Python coding challenges. Start with the [warmup](https://codingbat.com/python/Warmup-1 \"Warmup exercises\") exercises and then proceed as you wish. all the code can be entered and tested directly on the CodingBat website, and it tells you when you have successfully completed the challenges.\n",
    "\n",
    "There are two principal advantages to this:\n",
    "\n",
    "\n",
    "1.   Learning to program requires **LOTS** of repeated practice. You need to build up your repertoire of Python techniques so that you don't have to continually reach for your course notes to do basic things.\n",
    "2.   Secondly, employers are increasingly using exercises of the kind found on sites like CodingBat as part of their staff selection and recruitment process. There's no better way to see if someone has the basics of programming down pat than asking them to complete a series of small programming challenges. Therefore, engaging with the CodingBath exercises will help you to become familiar with the kinds of challenges you might face at a future job interview.\n",
    "\n"
   ]
  }
 ],
 "metadata": {
  "colab": {
   "collapsed_sections": [],
   "name": "Copy of HTTLAP_to_Python.ipynb",
   "provenance": []
  },
  "kernelspec": {
   "display_name": "Python 3",
   "language": "python",
   "name": "python3"
  },
  "language_info": {
   "codemirror_mode": {
    "name": "ipython",
    "version": 3
   },
   "file_extension": ".py",
   "mimetype": "text/x-python",
   "name": "python",
   "nbconvert_exporter": "python",
   "pygments_lexer": "ipython3",
   "version": "3.8.8"
  }
 },
 "nbformat": 4,
 "nbformat_minor": 1
}
