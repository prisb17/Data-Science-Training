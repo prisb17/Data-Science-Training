{
 "cells": [
  {
   "cell_type": "code",
   "execution_count": 6,
   "id": "59258447",
   "metadata": {},
   "outputs": [],
   "source": [
    "tests = [(False, False), (False, True), (True, False), (True, True)]"
   ]
  },
  {
   "cell_type": "code",
   "execution_count": 7,
   "id": "84972968",
   "metadata": {},
   "outputs": [],
   "source": [
    "def sleep_in(weekday,vacation):\n",
    "    if not weekday and not vacation:\n",
    "        return True\n",
    "    elif not weekday and vacation:\n",
    "        return True\n",
    "    elif weekday and not vacation:\n",
    "        return False\n",
    "    else:\n",
    "        return True        "
   ]
  },
  {
   "cell_type": "code",
   "execution_count": 8,
   "id": "a7f633ac",
   "metadata": {},
   "outputs": [
    {
     "name": "stdout",
     "output_type": "stream",
     "text": [
      "weekday: False,Vacation:False, so sleep in=True\n",
      "weekday: False,Vacation:True, so sleep in=True\n",
      "weekday: True,Vacation:False, so sleep in=False\n",
      "weekday: True,Vacation:True, so sleep in=True\n"
     ]
    }
   ],
   "source": [
    "for w,v in tests:\n",
    "    print(f\"weekday: {w},Vacation:{v}, so sleep in={sleep_in(w,v)}\") \n",
    "    #f is a formating string, it incorpores the values"
   ]
  },
  {
   "cell_type": "code",
   "execution_count": null,
   "id": "70868006",
   "metadata": {},
   "outputs": [],
   "source": [
    "def sleep_in(weekday,vacation):\n",
    "    if not weekday or vacation:\n",
    "        "
   ]
  }
 ],
 "metadata": {
  "kernelspec": {
   "display_name": "Python 3",
   "language": "python",
   "name": "python3"
  },
  "language_info": {
   "codemirror_mode": {
    "name": "ipython",
    "version": 3
   },
   "file_extension": ".py",
   "mimetype": "text/x-python",
   "name": "python",
   "nbconvert_exporter": "python",
   "pygments_lexer": "ipython3",
   "version": "3.8.8"
  }
 },
 "nbformat": 4,
 "nbformat_minor": 5
}
