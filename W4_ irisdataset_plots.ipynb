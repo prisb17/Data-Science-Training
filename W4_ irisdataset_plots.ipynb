{
 "cells": [
  {
   "cell_type": "markdown",
   "id": "47b8a363",
   "metadata": {},
   "source": [
    "# To know the environment I am working"
   ]
  },
  {
   "cell_type": "code",
   "execution_count": 1,
   "id": "234cac5b",
   "metadata": {},
   "outputs": [
    {
     "name": "stdout",
     "output_type": "stream",
     "text": [
      "C:\\Users\\prisc\\Desktop\\ejercicios python\\Northumbria\n"
     ]
    }
   ],
   "source": [
    "import os\n",
    "print(os.getcwd())"
   ]
  },
  {
   "cell_type": "markdown",
   "id": "d0b30408",
   "metadata": {},
   "source": [
    "# Numerical and text variables"
   ]
  },
  {
   "cell_type": "code",
   "execution_count": 2,
   "id": "a85e2815",
   "metadata": {},
   "outputs": [
    {
     "name": "stdout",
     "output_type": "stream",
     "text": [
      "6\n"
     ]
    }
   ],
   "source": [
    "x=2\n",
    "y=3\n",
    "z='text'\n",
    "print(x*y)"
   ]
  },
  {
   "cell_type": "markdown",
   "id": "4453c179",
   "metadata": {},
   "source": [
    "# Insert vectors"
   ]
  },
  {
   "cell_type": "code",
   "execution_count": 3,
   "id": "580387a7",
   "metadata": {},
   "outputs": [
    {
     "data": {
      "text/plain": [
       "[1, 2, 3]"
      ]
     },
     "execution_count": 3,
     "metadata": {},
     "output_type": "execute_result"
    }
   ],
   "source": [
    "[1,2,3]"
   ]
  },
  {
   "cell_type": "code",
   "execution_count": 4,
   "id": "2af70127",
   "metadata": {},
   "outputs": [],
   "source": [
    "vector1=[1,2,3]"
   ]
  },
  {
   "cell_type": "code",
   "execution_count": 5,
   "id": "a51363f5",
   "metadata": {},
   "outputs": [
    {
     "data": {
      "text/plain": [
       "list"
      ]
     },
     "execution_count": 5,
     "metadata": {},
     "output_type": "execute_result"
    }
   ],
   "source": [
    "type(vector1)"
   ]
  },
  {
   "cell_type": "code",
   "execution_count": 6,
   "id": "5af0087d",
   "metadata": {},
   "outputs": [
    {
     "data": {
      "text/plain": [
       "3"
      ]
     },
     "execution_count": 6,
     "metadata": {},
     "output_type": "execute_result"
    }
   ],
   "source": [
    "len(vector1)"
   ]
  },
  {
   "cell_type": "code",
   "execution_count": 7,
   "id": "f78b2067",
   "metadata": {},
   "outputs": [
    {
     "name": "stdout",
     "output_type": "stream",
     "text": [
      "1\n"
     ]
    }
   ],
   "source": [
    "print(vector1[0])"
   ]
  },
  {
   "cell_type": "code",
   "execution_count": 8,
   "id": "eef49a40",
   "metadata": {},
   "outputs": [
    {
     "name": "stdout",
     "output_type": "stream",
     "text": [
      "2\n"
     ]
    }
   ],
   "source": [
    "print(vector1[1])"
   ]
  },
  {
   "cell_type": "markdown",
   "id": "f2e52886",
   "metadata": {},
   "source": [
    "# Importing numpy library and working with vectors"
   ]
  },
  {
   "cell_type": "code",
   "execution_count": 9,
   "id": "106b7fd9",
   "metadata": {},
   "outputs": [
    {
     "name": "stdout",
     "output_type": "stream",
     "text": [
      "[1 2 3]\n",
      "[2 4 6]\n"
     ]
    }
   ],
   "source": [
    "import numpy as np\n",
    "vector1 = np.array([3,2,1])\n",
    "vector1.sort()\n",
    "print(vector1)\n",
    "print(vector1 * 2)"
   ]
  },
  {
   "cell_type": "markdown",
   "id": "3c78ae7d",
   "metadata": {},
   "source": [
    "## vectors: numerical, text, boolean"
   ]
  },
  {
   "cell_type": "code",
   "execution_count": 10,
   "id": "cf182221",
   "metadata": {},
   "outputs": [],
   "source": [
    "A=[5,10,15]\n",
    "B=['David','Ajayi','Bob']\n",
    "C=[True,True,False]"
   ]
  },
  {
   "cell_type": "code",
   "execution_count": 11,
   "id": "9d977f06",
   "metadata": {},
   "outputs": [
    {
     "name": "stdout",
     "output_type": "stream",
     "text": [
      "[['5' '10' '15']\n",
      " ['David' 'Ajayi' 'Bob']\n",
      " ['True' 'True' 'False']]\n"
     ]
    }
   ],
   "source": [
    "dataframe1=np.array([A,B,C])\n",
    "print(dataframe1)"
   ]
  },
  {
   "cell_type": "code",
   "execution_count": 12,
   "id": "39f2cdd3",
   "metadata": {},
   "outputs": [
    {
     "name": "stdout",
     "output_type": "stream",
     "text": [
      "['5' '10' '15']\n"
     ]
    }
   ],
   "source": [
    "print(dataframe1[0])"
   ]
  },
  {
   "cell_type": "code",
   "execution_count": 13,
   "id": "a6f49653",
   "metadata": {},
   "outputs": [],
   "source": [
    "D=[20,30,40]"
   ]
  },
  {
   "cell_type": "markdown",
   "id": "9a186cbd",
   "metadata": {},
   "source": [
    "### add rows into a dataframe"
   ]
  },
  {
   "cell_type": "code",
   "execution_count": 14,
   "id": "e29be28f",
   "metadata": {},
   "outputs": [
    {
     "name": "stdout",
     "output_type": "stream",
     "text": [
      "[['5' '10' '15']\n",
      " ['David' 'Ajayi' 'Bob']\n",
      " ['True' 'True' 'False']\n",
      " ['20' '30' '40']]\n"
     ]
    }
   ],
   "source": [
    "dataframe1=np.vstack([dataframe1,D])\n",
    "print(dataframe1)"
   ]
  },
  {
   "cell_type": "code",
   "execution_count": 15,
   "id": "fd4abc03",
   "metadata": {},
   "outputs": [
    {
     "data": {
      "text/plain": [
       "array([25, 40, 55])"
      ]
     },
     "execution_count": 15,
     "metadata": {},
     "output_type": "execute_result"
    }
   ],
   "source": [
    "dataframe1[0].astype(int)+dataframe1[3].astype(int)"
   ]
  },
  {
   "cell_type": "code",
   "execution_count": 16,
   "id": "c3eb8d79",
   "metadata": {},
   "outputs": [
    {
     "data": {
      "text/plain": [
       "array([10, 20, 30])"
      ]
     },
     "execution_count": 16,
     "metadata": {},
     "output_type": "execute_result"
    }
   ],
   "source": [
    "dataframe1[0].astype(int)*2"
   ]
  },
  {
   "cell_type": "markdown",
   "id": "4e2d39ba",
   "metadata": {},
   "source": [
    "### Delete rows from a dataframe. State the index to be revomed counting from 0 from right to left"
   ]
  },
  {
   "cell_type": "code",
   "execution_count": 17,
   "id": "90b3e30a",
   "metadata": {},
   "outputs": [
    {
     "name": "stdout",
     "output_type": "stream",
     "text": [
      "[['5' '10' '15']\n",
      " ['David' 'Ajayi' 'Bob']\n",
      " ['20' '30' '40']]\n"
     ]
    }
   ],
   "source": [
    "dataframe1=np.delete(dataframe1,2,0)\n",
    "print(dataframe1)"
   ]
  },
  {
   "cell_type": "markdown",
   "id": "02b0341f",
   "metadata": {},
   "source": [
    "### Delete the last row of a dataframe"
   ]
  },
  {
   "cell_type": "code",
   "execution_count": 18,
   "id": "7d8ab41a",
   "metadata": {},
   "outputs": [
    {
     "name": "stdout",
     "output_type": "stream",
     "text": [
      "[['5' '10' '15']\n",
      " ['David' 'Ajayi' 'Bob']]\n"
     ]
    }
   ],
   "source": [
    "dataframe1=np.delete(dataframe1,-1,0)\n",
    "print(dataframe1)"
   ]
  },
  {
   "cell_type": "markdown",
   "id": "e56b4de9",
   "metadata": {},
   "source": [
    "### Delete multiple rows at once"
   ]
  },
  {
   "cell_type": "code",
   "execution_count": 19,
   "id": "562cceb0",
   "metadata": {},
   "outputs": [
    {
     "name": "stdout",
     "output_type": "stream",
     "text": [
      "[]\n"
     ]
    }
   ],
   "source": [
    "dataframe1=np.delete(dataframe1,[0,-1],0)\n",
    "print(dataframe1)"
   ]
  },
  {
   "cell_type": "markdown",
   "id": "872d06b9",
   "metadata": {},
   "source": [
    "# Using pandas library to import iris data"
   ]
  },
  {
   "cell_type": "code",
   "execution_count": 20,
   "id": "eb5f6050",
   "metadata": {},
   "outputs": [
    {
     "name": "stdout",
     "output_type": "stream",
     "text": [
      "(150, 5)\n",
      "     sepallength  sepalwidth  petallength  petalwidth           class\n",
      "0            5.1         3.5          1.4         0.2     Iris-setosa\n",
      "1            4.9         3.0          1.4         0.2     Iris-setosa\n",
      "2            4.7         3.2          1.3         0.2     Iris-setosa\n",
      "3            4.6         3.1          1.5         0.2     Iris-setosa\n",
      "4            5.0         3.6          1.4         0.2     Iris-setosa\n",
      "..           ...         ...          ...         ...             ...\n",
      "145          6.7         3.0          5.2         2.3  Iris-virginica\n",
      "146          6.3         2.5          5.0         1.9  Iris-virginica\n",
      "147          6.5         3.0          5.2         2.0  Iris-virginica\n",
      "148          6.2         3.4          5.4         2.3  Iris-virginica\n",
      "149          5.9         3.0          5.1         1.8  Iris-virginica\n",
      "\n",
      "[150 rows x 5 columns]\n"
     ]
    }
   ],
   "source": [
    "import pandas as pd\n",
    "iris= pd.read_csv('D:/respaldo/Data Science Northumbria/python_Northumbria/iris.csv')\n",
    "print(iris.shape)\n",
    "print(iris)"
   ]
  },
  {
   "cell_type": "code",
   "execution_count": 21,
   "id": "6a707c4d",
   "metadata": {},
   "outputs": [
    {
     "name": "stdout",
     "output_type": "stream",
     "text": [
      "    sepallength  sepalwidth  petallength  petalwidth        class\n",
      "0           5.1         3.5          1.4         0.2  Iris-setosa\n",
      "1           4.9         3.0          1.4         0.2  Iris-setosa\n",
      "2           4.7         3.2          1.3         0.2  Iris-setosa\n",
      "3           4.6         3.1          1.5         0.2  Iris-setosa\n",
      "4           5.0         3.6          1.4         0.2  Iris-setosa\n",
      "5           5.4         3.9          1.7         0.4  Iris-setosa\n",
      "6           4.6         3.4          1.4         0.3  Iris-setosa\n",
      "7           5.0         3.4          1.5         0.2  Iris-setosa\n",
      "8           4.4         2.9          1.4         0.2  Iris-setosa\n",
      "9           4.9         3.1          1.5         0.1  Iris-setosa\n",
      "10          5.4         3.7          1.5         0.2  Iris-setosa\n",
      "11          4.8         3.4          1.6         0.2  Iris-setosa\n",
      "12          4.8         3.0          1.4         0.1  Iris-setosa\n",
      "13          4.3         3.0          1.1         0.1  Iris-setosa\n",
      "14          5.8         4.0          1.2         0.2  Iris-setosa\n",
      "15          5.7         4.4          1.5         0.4  Iris-setosa\n",
      "16          5.4         3.9          1.3         0.4  Iris-setosa\n",
      "17          5.1         3.5          1.4         0.3  Iris-setosa\n",
      "18          5.7         3.8          1.7         0.3  Iris-setosa\n",
      "19          5.1         3.8          1.5         0.3  Iris-setosa\n",
      "20          5.4         3.4          1.7         0.2  Iris-setosa\n",
      "21          5.1         3.7          1.5         0.4  Iris-setosa\n",
      "22          4.6         3.6          1.0         0.2  Iris-setosa\n",
      "23          5.1         3.3          1.7         0.5  Iris-setosa\n",
      "24          4.8         3.4          1.9         0.2  Iris-setosa\n",
      "25          5.0         3.0          1.6         0.2  Iris-setosa\n",
      "26          5.0         3.4          1.6         0.4  Iris-setosa\n",
      "27          5.2         3.5          1.5         0.2  Iris-setosa\n",
      "28          5.2         3.4          1.4         0.2  Iris-setosa\n",
      "29          4.7         3.2          1.6         0.2  Iris-setosa\n",
      "30          4.8         3.1          1.6         0.2  Iris-setosa\n",
      "31          5.4         3.4          1.5         0.4  Iris-setosa\n",
      "32          5.2         4.1          1.5         0.1  Iris-setosa\n",
      "33          5.5         4.2          1.4         0.2  Iris-setosa\n",
      "34          4.9         3.1          1.5         0.1  Iris-setosa\n",
      "35          5.0         3.2          1.2         0.2  Iris-setosa\n",
      "36          5.5         3.5          1.3         0.2  Iris-setosa\n",
      "37          4.9         3.1          1.5         0.1  Iris-setosa\n",
      "38          4.4         3.0          1.3         0.2  Iris-setosa\n",
      "39          5.1         3.4          1.5         0.2  Iris-setosa\n",
      "40          5.0         3.5          1.3         0.3  Iris-setosa\n",
      "41          4.5         2.3          1.3         0.3  Iris-setosa\n",
      "42          4.4         3.2          1.3         0.2  Iris-setosa\n",
      "43          5.0         3.5          1.6         0.6  Iris-setosa\n",
      "44          5.1         3.8          1.9         0.4  Iris-setosa\n",
      "45          4.8         3.0          1.4         0.3  Iris-setosa\n",
      "46          5.1         3.8          1.6         0.2  Iris-setosa\n",
      "47          4.6         3.2          1.4         0.2  Iris-setosa\n",
      "48          5.3         3.7          1.5         0.2  Iris-setosa\n",
      "49          5.0         3.3          1.4         0.2  Iris-setosa\n"
     ]
    }
   ],
   "source": [
    "# Create a new dataset derived from an existing dataset\n",
    "# In this way, a data can be filtered by a characteristic which in this case is having the class 'Iris-setosa'\n",
    "iris_setosa = iris[iris['class']=='Iris-setosa']\n",
    "print(iris_setosa)"
   ]
  },
  {
   "cell_type": "markdown",
   "id": "d6b14a0f",
   "metadata": {},
   "source": [
    "# OPTION 1 TO CREATE A GRAPH USING MATPLOTLIB"
   ]
  },
  {
   "cell_type": "code",
   "execution_count": 22,
   "id": "0b467ba9",
   "metadata": {},
   "outputs": [],
   "source": [
    "import matplotlib.pyplot as plt\n",
    "from matplotlib import *\n",
    "## importing matplotlibrary and pyplot package to plot"
   ]
  },
  {
   "cell_type": "code",
   "execution_count": 23,
   "id": "dfae9f26",
   "metadata": {},
   "outputs": [],
   "source": [
    "style.use('ggplot')\n",
    "## Here is the style I want to apply to the plot. The available styles are:\n",
    "##['bmh',\n",
    "# 'classic',\n",
    "#'dark_background',\n",
    "# 'fivethirtyeight',\n",
    "# 'ggplot',\n",
    "# 'grayscale',\n",
    "# 'mycustomstyle',\n",
    "# 'seaborn',\n",
    "# 'seaborn-whitegrid']"
   ]
  },
  {
   "cell_type": "code",
   "execution_count": 24,
   "id": "cf996dcb",
   "metadata": {},
   "outputs": [
    {
     "data": {
      "image/png": "[encoded data removed]",
      "text/plain": [
       "<Figure size 432x288 with 1 Axes>"
      ]
     },
     "metadata": {},
     "output_type": "display_data"
    }
   ],
   "source": [
    "##sepallength = iris['sepallength']   this statement selects the column that I want to print\n",
    "##sepalwidth = iris['sepalwidth']\n",
    "\n",
    "plt.plot(iris['sepallength'],iris['sepalwidth'],'.')\n",
    "#'.' by default I get lines but I can change the plots by the feature I want for example a dot or dash\n",
    "\n",
    "plt.xlabel('sepallength')\n",
    "plt.ylabel('sepalwidth')\n",
    "plt.show()"
   ]
  },
  {
   "cell_type": "markdown",
   "id": "a31db465",
   "metadata": {},
   "source": [
    "# OPTION 2 TO CREATE A GRAPH USING PLOTLINE"
   ]
  },
  {
   "cell_type": "code",
   "execution_count": 25,
   "id": "eeca73fe",
   "metadata": {},
   "outputs": [],
   "source": [
    "# !pip install plotnine"
   ]
  },
  {
   "cell_type": "code",
   "execution_count": 26,
   "id": "34480847",
   "metadata": {},
   "outputs": [
    {
     "data": {
      "image/png": "[encoded data removed]",
      "text/plain": [
       "<Figure size 640x480 with 1 Axes>"
      ]
     },
     "metadata": {},
     "output_type": "display_data"
    },
    {
     "data": {
      "text/plain": [
       "<ggplot: (146224022215)>"
      ]
     },
     "execution_count": 26,
     "metadata": {},
     "output_type": "execute_result"
    }
   ],
   "source": [
    "from plotnine import *\n",
    "ggplot(iris, aes(x='sepallength',y='sepalwidth'))+ geom_point()"
   ]
  },
  {
   "cell_type": "code",
   "execution_count": 27,
   "id": "563afe61",
   "metadata": {},
   "outputs": [
    {
     "data": {
      "image/png": "[encoded data removed]",
      "text/plain": [
       "<Figure size 640x480 with 1 Axes>"
      ]
     },
     "metadata": {},
     "output_type": "display_data"
    },
    {
     "data": {
      "text/plain": [
       "<ggplot: (146224047595)>"
      ]
     },
     "execution_count": 27,
     "metadata": {},
     "output_type": "execute_result"
    }
   ],
   "source": [
    "#here I can plot the 3 classes of iris diffirenciated by color\n",
    "\n",
    "ggplot(data =iris) + geom_point(mapping=aes(x='sepallength',y='sepalwidth',color='class'))"
   ]
  },
  {
   "cell_type": "code",
   "execution_count": 28,
   "id": "f7d86873",
   "metadata": {},
   "outputs": [
    {
     "name": "stdout",
     "output_type": "stream",
     "text": [
      "(150, 4)\n",
      "[[5.1 3.5 1.4 0.2]\n",
      " [4.9 3.  1.4 0.2]\n",
      " [4.7 3.2 1.3 0.2]\n",
      " [4.6 3.1 1.5 0.2]\n",
      " [5.  3.6 1.4 0.2]\n",
      " [5.4 3.9 1.7 0.4]\n",
      " [4.6 3.4 1.4 0.3]\n",
      " [5.  3.4 1.5 0.2]\n",
      " [4.4 2.9 1.4 0.2]\n",
      " [4.9 3.1 1.5 0.1]\n",
      " [5.4 3.7 1.5 0.2]\n",
      " [4.8 3.4 1.6 0.2]\n",
      " [4.8 3.  1.4 0.1]\n",
      " [4.3 3.  1.1 0.1]\n",
      " [5.8 4.  1.2 0.2]\n",
      " [5.7 4.4 1.5 0.4]\n",
      " [5.4 3.9 1.3 0.4]\n",
      " [5.1 3.5 1.4 0.3]\n",
      " [5.7 3.8 1.7 0.3]\n",
      " [5.1 3.8 1.5 0.3]\n",
      " [5.4 3.4 1.7 0.2]\n",
      " [5.1 3.7 1.5 0.4]\n",
      " [4.6 3.6 1.  0.2]\n",
      " [5.1 3.3 1.7 0.5]\n",
      " [4.8 3.4 1.9 0.2]\n",
      " [5.  3.  1.6 0.2]\n",
      " [5.  3.4 1.6 0.4]\n",
      " [5.2 3.5 1.5 0.2]\n",
      " [5.2 3.4 1.4 0.2]\n",
      " [4.7 3.2 1.6 0.2]\n",
      " [4.8 3.1 1.6 0.2]\n",
      " [5.4 3.4 1.5 0.4]\n",
      " [5.2 4.1 1.5 0.1]\n",
      " [5.5 4.2 1.4 0.2]\n",
      " [4.9 3.1 1.5 0.2]\n",
      " [5.  3.2 1.2 0.2]\n",
      " [5.5 3.5 1.3 0.2]\n",
      " [4.9 3.6 1.4 0.1]\n",
      " [4.4 3.  1.3 0.2]\n",
      " [5.1 3.4 1.5 0.2]\n",
      " [5.  3.5 1.3 0.3]\n",
      " [4.5 2.3 1.3 0.3]\n",
      " [4.4 3.2 1.3 0.2]\n",
      " [5.  3.5 1.6 0.6]\n",
      " [5.1 3.8 1.9 0.4]\n",
      " [4.8 3.  1.4 0.3]\n",
      " [5.1 3.8 1.6 0.2]\n",
      " [4.6 3.2 1.4 0.2]\n",
      " [5.3 3.7 1.5 0.2]\n",
      " [5.  3.3 1.4 0.2]\n",
      " [7.  3.2 4.7 1.4]\n",
      " [6.4 3.2 4.5 1.5]\n",
      " [6.9 3.1 4.9 1.5]\n",
      " [5.5 2.3 4.  1.3]\n",
      " [6.5 2.8 4.6 1.5]\n",
      " [5.7 2.8 4.5 1.3]\n",
      " [6.3 3.3 4.7 1.6]\n",
      " [4.9 2.4 3.3 1. ]\n",
      " [6.6 2.9 4.6 1.3]\n",
      " [5.2 2.7 3.9 1.4]\n",
      " [5.  2.  3.5 1. ]\n",
      " [5.9 3.  4.2 1.5]\n",
      " [6.  2.2 4.  1. ]\n",
      " [6.1 2.9 4.7 1.4]\n",
      " [5.6 2.9 3.6 1.3]\n",
      " [6.7 3.1 4.4 1.4]\n",
      " [5.6 3.  4.5 1.5]\n",
      " [5.8 2.7 4.1 1. ]\n",
      " [6.2 2.2 4.5 1.5]\n",
      " [5.6 2.5 3.9 1.1]\n",
      " [5.9 3.2 4.8 1.8]\n",
      " [6.1 2.8 4.  1.3]\n",
      " [6.3 2.5 4.9 1.5]\n",
      " [6.1 2.8 4.7 1.2]\n",
      " [6.4 2.9 4.3 1.3]\n",
      " [6.6 3.  4.4 1.4]\n",
      " [6.8 2.8 4.8 1.4]\n",
      " [6.7 3.  5.  1.7]\n",
      " [6.  2.9 4.5 1.5]\n",
      " [5.7 2.6 3.5 1. ]\n",
      " [5.5 2.4 3.8 1.1]\n",
      " [5.5 2.4 3.7 1. ]\n",
      " [5.8 2.7 3.9 1.2]\n",
      " [6.  2.7 5.1 1.6]\n",
      " [5.4 3.  4.5 1.5]\n",
      " [6.  3.4 4.5 1.6]\n",
      " [6.7 3.1 4.7 1.5]\n",
      " [6.3 2.3 4.4 1.3]\n",
      " [5.6 3.  4.1 1.3]\n",
      " [5.5 2.5 4.  1.3]\n",
      " [5.5 2.6 4.4 1.2]\n",
      " [6.1 3.  4.6 1.4]\n",
      " [5.8 2.6 4.  1.2]\n",
      " [5.  2.3 3.3 1. ]\n",
      " [5.6 2.7 4.2 1.3]\n",
      " [5.7 3.  4.2 1.2]\n",
      " [5.7 2.9 4.2 1.3]\n",
      " [6.2 2.9 4.3 1.3]\n",
      " [5.1 2.5 3.  1.1]\n",
      " [5.7 2.8 4.1 1.3]\n",
      " [6.3 3.3 6.  2.5]\n",
      " [5.8 2.7 5.1 1.9]\n",
      " [7.1 3.  5.9 2.1]\n",
      " [6.3 2.9 5.6 1.8]\n",
      " [6.5 3.  5.8 2.2]\n",
      " [7.6 3.  6.6 2.1]\n",
      " [4.9 2.5 4.5 1.7]\n",
      " [7.3 2.9 6.3 1.8]\n",
      " [6.7 2.5 5.8 1.8]\n",
      " [7.2 3.6 6.1 2.5]\n",
      " [6.5 3.2 5.1 2. ]\n",
      " [6.4 2.7 5.3 1.9]\n",
      " [6.8 3.  5.5 2.1]\n",
      " [5.7 2.5 5.  2. ]\n",
      " [5.8 2.8 5.1 2.4]\n",
      " [6.4 3.2 5.3 2.3]\n",
      " [6.5 3.  5.5 1.8]\n",
      " [7.7 3.8 6.7 2.2]\n",
      " [7.7 2.6 6.9 2.3]\n",
      " [6.  2.2 5.  1.5]\n",
      " [6.9 3.2 5.7 2.3]\n",
      " [5.6 2.8 4.9 2. ]\n",
      " [7.7 2.8 6.7 2. ]\n",
      " [6.3 2.7 4.9 1.8]\n",
      " [6.7 3.3 5.7 2.1]\n",
      " [7.2 3.2 6.  1.8]\n",
      " [6.2 2.8 4.8 1.8]\n",
      " [6.1 3.  4.9 1.8]\n",
      " [6.4 2.8 5.6 2.1]\n",
      " [7.2 3.  5.8 1.6]\n",
      " [7.4 2.8 6.1 1.9]\n",
      " [7.9 3.8 6.4 2. ]\n",
      " [6.4 2.8 5.6 2.2]\n",
      " [6.3 2.8 5.1 1.5]\n",
      " [6.1 2.6 5.6 1.4]\n",
      " [7.7 3.  6.1 2.3]\n",
      " [6.3 3.4 5.6 2.4]\n",
      " [6.4 3.1 5.5 1.8]\n",
      " [6.  3.  4.8 1.8]\n",
      " [6.9 3.1 5.4 2.1]\n",
      " [6.7 3.1 5.6 2.4]\n",
      " [6.9 3.1 5.1 2.3]\n",
      " [5.8 2.7 5.1 1.9]\n",
      " [6.8 3.2 5.9 2.3]\n",
      " [6.7 3.3 5.7 2.5]\n",
      " [6.7 3.  5.2 2.3]\n",
      " [6.3 2.5 5.  1.9]\n",
      " [6.5 3.  5.2 2. ]\n",
      " [6.2 3.4 5.4 2.3]\n",
      " [5.9 3.  5.1 1.8]]\n"
     ]
    }
   ],
   "source": [
    "##\n",
    "from sklearn import datasets\n",
    "iris=datasets.load_iris()\n",
    "x=iris.data\n",
    "y=iris.target\n",
    "print(x.shape)\n",
    "print(x)"
   ]
  },
  {
   "cell_type": "code",
   "execution_count": null,
   "id": "98d0dc7d",
   "metadata": {},
   "outputs": [],
   "source": []
  }
 ],
 "metadata": {
  "kernelspec": {
   "display_name": "Python 3",
   "language": "python",
   "name": "python3"
  },
  "language_info": {
   "codemirror_mode": {
    "name": "ipython",
    "version": 3
   },
   "file_extension": ".py",
   "mimetype": "text/x-python",
   "name": "python",
   "nbconvert_exporter": "python",
   "pygments_lexer": "ipython3",
   "version": "3.8.8"
  }
 },
 "nbformat": 4,
 "nbformat_minor": 5
}
